{
 "cells": [
  {
   "cell_type": "code",
   "execution_count": 1,
   "metadata": {},
   "outputs": [],
   "source": [
    "from imblearn.over_sampling import ADASYN\n",
    "from collections import Counter\n",
    "import matplotlib.pyplot as plt\n",
    "import seaborn as sns\n",
    "import pandas as pd\n",
    "import numpy as np\n",
    "import warnings"
   ]
  },
  {
   "cell_type": "code",
   "execution_count": 2,
   "metadata": {},
   "outputs": [],
   "source": [
    "pd.set_option('display.max_columns',None)\n",
    "warnings.filterwarnings(action='ignore')"
   ]
  },
  {
   "cell_type": "code",
   "execution_count": 3,
   "metadata": {
    "scrolled": false
   },
   "outputs": [
    {
     "data": {
      "text/html": [
       "<div>\n",
       "<style scoped>\n",
       "    .dataframe tbody tr th:only-of-type {\n",
       "        vertical-align: middle;\n",
       "    }\n",
       "\n",
       "    .dataframe tbody tr th {\n",
       "        vertical-align: top;\n",
       "    }\n",
       "\n",
       "    .dataframe thead th {\n",
       "        text-align: right;\n",
       "    }\n",
       "</style>\n",
       "<table border=\"1\" class=\"dataframe\">\n",
       "  <thead>\n",
       "    <tr style=\"text-align: right;\">\n",
       "      <th></th>\n",
       "      <th>status</th>\n",
       "      <th>duration</th>\n",
       "      <th>credit_history</th>\n",
       "      <th>purpose</th>\n",
       "      <th>amount</th>\n",
       "      <th>savings</th>\n",
       "      <th>employment_duration</th>\n",
       "      <th>installment_rate</th>\n",
       "      <th>personal_status_sex</th>\n",
       "      <th>other_debtors</th>\n",
       "      <th>present_residence</th>\n",
       "      <th>property</th>\n",
       "      <th>age</th>\n",
       "      <th>other_installment_plans</th>\n",
       "      <th>housing</th>\n",
       "      <th>number_credits</th>\n",
       "      <th>job</th>\n",
       "      <th>people_liable</th>\n",
       "      <th>telephone</th>\n",
       "      <th>foreign_worker</th>\n",
       "      <th>credit_risk</th>\n",
       "    </tr>\n",
       "  </thead>\n",
       "  <tbody>\n",
       "    <tr>\n",
       "      <th>0</th>\n",
       "      <td>1</td>\n",
       "      <td>18</td>\n",
       "      <td>4</td>\n",
       "      <td>2</td>\n",
       "      <td>1049</td>\n",
       "      <td>1</td>\n",
       "      <td>2</td>\n",
       "      <td>4</td>\n",
       "      <td>2</td>\n",
       "      <td>1</td>\n",
       "      <td>4</td>\n",
       "      <td>2</td>\n",
       "      <td>21</td>\n",
       "      <td>3</td>\n",
       "      <td>1</td>\n",
       "      <td>1</td>\n",
       "      <td>3</td>\n",
       "      <td>2</td>\n",
       "      <td>1</td>\n",
       "      <td>2</td>\n",
       "      <td>1</td>\n",
       "    </tr>\n",
       "    <tr>\n",
       "      <th>1</th>\n",
       "      <td>1</td>\n",
       "      <td>9</td>\n",
       "      <td>4</td>\n",
       "      <td>0</td>\n",
       "      <td>2799</td>\n",
       "      <td>1</td>\n",
       "      <td>3</td>\n",
       "      <td>2</td>\n",
       "      <td>3</td>\n",
       "      <td>1</td>\n",
       "      <td>2</td>\n",
       "      <td>1</td>\n",
       "      <td>36</td>\n",
       "      <td>3</td>\n",
       "      <td>1</td>\n",
       "      <td>2</td>\n",
       "      <td>3</td>\n",
       "      <td>1</td>\n",
       "      <td>1</td>\n",
       "      <td>2</td>\n",
       "      <td>1</td>\n",
       "    </tr>\n",
       "    <tr>\n",
       "      <th>2</th>\n",
       "      <td>2</td>\n",
       "      <td>12</td>\n",
       "      <td>2</td>\n",
       "      <td>9</td>\n",
       "      <td>841</td>\n",
       "      <td>2</td>\n",
       "      <td>4</td>\n",
       "      <td>2</td>\n",
       "      <td>2</td>\n",
       "      <td>1</td>\n",
       "      <td>4</td>\n",
       "      <td>1</td>\n",
       "      <td>23</td>\n",
       "      <td>3</td>\n",
       "      <td>1</td>\n",
       "      <td>1</td>\n",
       "      <td>2</td>\n",
       "      <td>2</td>\n",
       "      <td>1</td>\n",
       "      <td>2</td>\n",
       "      <td>1</td>\n",
       "    </tr>\n",
       "    <tr>\n",
       "      <th>3</th>\n",
       "      <td>1</td>\n",
       "      <td>12</td>\n",
       "      <td>4</td>\n",
       "      <td>0</td>\n",
       "      <td>2122</td>\n",
       "      <td>1</td>\n",
       "      <td>3</td>\n",
       "      <td>3</td>\n",
       "      <td>3</td>\n",
       "      <td>1</td>\n",
       "      <td>2</td>\n",
       "      <td>1</td>\n",
       "      <td>39</td>\n",
       "      <td>3</td>\n",
       "      <td>1</td>\n",
       "      <td>2</td>\n",
       "      <td>2</td>\n",
       "      <td>1</td>\n",
       "      <td>1</td>\n",
       "      <td>1</td>\n",
       "      <td>1</td>\n",
       "    </tr>\n",
       "    <tr>\n",
       "      <th>4</th>\n",
       "      <td>1</td>\n",
       "      <td>12</td>\n",
       "      <td>4</td>\n",
       "      <td>0</td>\n",
       "      <td>2171</td>\n",
       "      <td>1</td>\n",
       "      <td>3</td>\n",
       "      <td>4</td>\n",
       "      <td>3</td>\n",
       "      <td>1</td>\n",
       "      <td>4</td>\n",
       "      <td>2</td>\n",
       "      <td>38</td>\n",
       "      <td>1</td>\n",
       "      <td>2</td>\n",
       "      <td>2</td>\n",
       "      <td>2</td>\n",
       "      <td>2</td>\n",
       "      <td>1</td>\n",
       "      <td>1</td>\n",
       "      <td>1</td>\n",
       "    </tr>\n",
       "    <tr>\n",
       "      <th>...</th>\n",
       "      <td>...</td>\n",
       "      <td>...</td>\n",
       "      <td>...</td>\n",
       "      <td>...</td>\n",
       "      <td>...</td>\n",
       "      <td>...</td>\n",
       "      <td>...</td>\n",
       "      <td>...</td>\n",
       "      <td>...</td>\n",
       "      <td>...</td>\n",
       "      <td>...</td>\n",
       "      <td>...</td>\n",
       "      <td>...</td>\n",
       "      <td>...</td>\n",
       "      <td>...</td>\n",
       "      <td>...</td>\n",
       "      <td>...</td>\n",
       "      <td>...</td>\n",
       "      <td>...</td>\n",
       "      <td>...</td>\n",
       "      <td>...</td>\n",
       "    </tr>\n",
       "    <tr>\n",
       "      <th>995</th>\n",
       "      <td>1</td>\n",
       "      <td>24</td>\n",
       "      <td>2</td>\n",
       "      <td>3</td>\n",
       "      <td>1987</td>\n",
       "      <td>1</td>\n",
       "      <td>3</td>\n",
       "      <td>2</td>\n",
       "      <td>3</td>\n",
       "      <td>1</td>\n",
       "      <td>4</td>\n",
       "      <td>1</td>\n",
       "      <td>21</td>\n",
       "      <td>3</td>\n",
       "      <td>1</td>\n",
       "      <td>1</td>\n",
       "      <td>2</td>\n",
       "      <td>1</td>\n",
       "      <td>1</td>\n",
       "      <td>2</td>\n",
       "      <td>0</td>\n",
       "    </tr>\n",
       "    <tr>\n",
       "      <th>996</th>\n",
       "      <td>1</td>\n",
       "      <td>24</td>\n",
       "      <td>2</td>\n",
       "      <td>0</td>\n",
       "      <td>2303</td>\n",
       "      <td>1</td>\n",
       "      <td>5</td>\n",
       "      <td>4</td>\n",
       "      <td>3</td>\n",
       "      <td>2</td>\n",
       "      <td>1</td>\n",
       "      <td>1</td>\n",
       "      <td>45</td>\n",
       "      <td>3</td>\n",
       "      <td>2</td>\n",
       "      <td>1</td>\n",
       "      <td>3</td>\n",
       "      <td>2</td>\n",
       "      <td>1</td>\n",
       "      <td>2</td>\n",
       "      <td>0</td>\n",
       "    </tr>\n",
       "    <tr>\n",
       "      <th>997</th>\n",
       "      <td>4</td>\n",
       "      <td>21</td>\n",
       "      <td>4</td>\n",
       "      <td>0</td>\n",
       "      <td>12680</td>\n",
       "      <td>5</td>\n",
       "      <td>5</td>\n",
       "      <td>4</td>\n",
       "      <td>3</td>\n",
       "      <td>1</td>\n",
       "      <td>4</td>\n",
       "      <td>4</td>\n",
       "      <td>30</td>\n",
       "      <td>3</td>\n",
       "      <td>3</td>\n",
       "      <td>1</td>\n",
       "      <td>4</td>\n",
       "      <td>2</td>\n",
       "      <td>2</td>\n",
       "      <td>2</td>\n",
       "      <td>0</td>\n",
       "    </tr>\n",
       "    <tr>\n",
       "      <th>998</th>\n",
       "      <td>2</td>\n",
       "      <td>12</td>\n",
       "      <td>2</td>\n",
       "      <td>3</td>\n",
       "      <td>6468</td>\n",
       "      <td>5</td>\n",
       "      <td>1</td>\n",
       "      <td>2</td>\n",
       "      <td>3</td>\n",
       "      <td>1</td>\n",
       "      <td>1</td>\n",
       "      <td>4</td>\n",
       "      <td>52</td>\n",
       "      <td>3</td>\n",
       "      <td>2</td>\n",
       "      <td>1</td>\n",
       "      <td>4</td>\n",
       "      <td>2</td>\n",
       "      <td>2</td>\n",
       "      <td>2</td>\n",
       "      <td>0</td>\n",
       "    </tr>\n",
       "    <tr>\n",
       "      <th>999</th>\n",
       "      <td>1</td>\n",
       "      <td>30</td>\n",
       "      <td>2</td>\n",
       "      <td>2</td>\n",
       "      <td>6350</td>\n",
       "      <td>5</td>\n",
       "      <td>5</td>\n",
       "      <td>4</td>\n",
       "      <td>3</td>\n",
       "      <td>1</td>\n",
       "      <td>4</td>\n",
       "      <td>2</td>\n",
       "      <td>31</td>\n",
       "      <td>3</td>\n",
       "      <td>2</td>\n",
       "      <td>1</td>\n",
       "      <td>3</td>\n",
       "      <td>2</td>\n",
       "      <td>1</td>\n",
       "      <td>2</td>\n",
       "      <td>0</td>\n",
       "    </tr>\n",
       "  </tbody>\n",
       "</table>\n",
       "<p>1000 rows × 21 columns</p>\n",
       "</div>"
      ],
      "text/plain": [
       "     status  duration  credit_history  purpose  amount  savings  \\\n",
       "0         1        18               4        2    1049        1   \n",
       "1         1         9               4        0    2799        1   \n",
       "2         2        12               2        9     841        2   \n",
       "3         1        12               4        0    2122        1   \n",
       "4         1        12               4        0    2171        1   \n",
       "..      ...       ...             ...      ...     ...      ...   \n",
       "995       1        24               2        3    1987        1   \n",
       "996       1        24               2        0    2303        1   \n",
       "997       4        21               4        0   12680        5   \n",
       "998       2        12               2        3    6468        5   \n",
       "999       1        30               2        2    6350        5   \n",
       "\n",
       "     employment_duration  installment_rate  personal_status_sex  \\\n",
       "0                      2                 4                    2   \n",
       "1                      3                 2                    3   \n",
       "2                      4                 2                    2   \n",
       "3                      3                 3                    3   \n",
       "4                      3                 4                    3   \n",
       "..                   ...               ...                  ...   \n",
       "995                    3                 2                    3   \n",
       "996                    5                 4                    3   \n",
       "997                    5                 4                    3   \n",
       "998                    1                 2                    3   \n",
       "999                    5                 4                    3   \n",
       "\n",
       "     other_debtors  present_residence  property  age  other_installment_plans  \\\n",
       "0                1                  4         2   21                        3   \n",
       "1                1                  2         1   36                        3   \n",
       "2                1                  4         1   23                        3   \n",
       "3                1                  2         1   39                        3   \n",
       "4                1                  4         2   38                        1   \n",
       "..             ...                ...       ...  ...                      ...   \n",
       "995              1                  4         1   21                        3   \n",
       "996              2                  1         1   45                        3   \n",
       "997              1                  4         4   30                        3   \n",
       "998              1                  1         4   52                        3   \n",
       "999              1                  4         2   31                        3   \n",
       "\n",
       "     housing  number_credits  job  people_liable  telephone  foreign_worker  \\\n",
       "0          1               1    3              2          1               2   \n",
       "1          1               2    3              1          1               2   \n",
       "2          1               1    2              2          1               2   \n",
       "3          1               2    2              1          1               1   \n",
       "4          2               2    2              2          1               1   \n",
       "..       ...             ...  ...            ...        ...             ...   \n",
       "995        1               1    2              1          1               2   \n",
       "996        2               1    3              2          1               2   \n",
       "997        3               1    4              2          2               2   \n",
       "998        2               1    4              2          2               2   \n",
       "999        2               1    3              2          1               2   \n",
       "\n",
       "     credit_risk  \n",
       "0              1  \n",
       "1              1  \n",
       "2              1  \n",
       "3              1  \n",
       "4              1  \n",
       "..           ...  \n",
       "995            0  \n",
       "996            0  \n",
       "997            0  \n",
       "998            0  \n",
       "999            0  \n",
       "\n",
       "[1000 rows x 21 columns]"
      ]
     },
     "execution_count": 3,
     "metadata": {},
     "output_type": "execute_result"
    }
   ],
   "source": [
    "df = pd.read_csv(r\"C:\\Users\\Lenovo\\PycharmProjects\\GermanBankCreditCard\\SouthGermanCredit\\Preprocess.csv\")\n",
    "df.drop(['Unnamed: 0'],axis=1,inplace=True)\n",
    "df"
   ]
  },
  {
   "cell_type": "code",
   "execution_count": 4,
   "metadata": {
    "scrolled": false
   },
   "outputs": [
    {
     "data": {
      "text/plain": [
       "status                     0\n",
       "duration                   0\n",
       "credit_history             0\n",
       "purpose                    0\n",
       "amount                     0\n",
       "savings                    0\n",
       "employment_duration        0\n",
       "installment_rate           0\n",
       "personal_status_sex        0\n",
       "other_debtors              0\n",
       "present_residence          0\n",
       "property                   0\n",
       "age                        0\n",
       "other_installment_plans    0\n",
       "housing                    0\n",
       "number_credits             0\n",
       "job                        0\n",
       "people_liable              0\n",
       "telephone                  0\n",
       "foreign_worker             0\n",
       "credit_risk                0\n",
       "dtype: int64"
      ]
     },
     "execution_count": 4,
     "metadata": {},
     "output_type": "execute_result"
    }
   ],
   "source": [
    "df.isnull().sum()"
   ]
  },
  {
   "cell_type": "code",
   "execution_count": 5,
   "metadata": {
    "scrolled": false
   },
   "outputs": [
    {
     "data": {
      "text/plain": [
       "status                       0\n",
       "duration                    70\n",
       "credit_history               0\n",
       "purpose                    118\n",
       "amount                      72\n",
       "savings                      0\n",
       "employment_duration          0\n",
       "installment_rate             0\n",
       "personal_status_sex          0\n",
       "other_debtors               93\n",
       "present_residence            0\n",
       "property                     0\n",
       "age                         23\n",
       "other_installment_plans    186\n",
       "housing                    286\n",
       "number_credits               6\n",
       "job                        370\n",
       "people_liable              155\n",
       "telephone                    0\n",
       "foreign_worker              37\n",
       "credit_risk                  0\n",
       "dtype: int64"
      ]
     },
     "execution_count": 5,
     "metadata": {},
     "output_type": "execute_result"
    }
   ],
   "source": [
    "q1 = df.quantile(0.25)\n",
    "q3 = df.quantile(0.75)\n",
    "IQR = q3-q1\n",
    "\n",
    "((df < (q1-1.5*IQR)) | (df > (q3+1.5*IQR))).sum()"
   ]
  },
  {
   "cell_type": "code",
   "execution_count": 6,
   "metadata": {},
   "outputs": [],
   "source": [
    "columns=['duration','purpose','amount','other_debtors','age','other_installment_plans','housing','number_credits','job',\n",
    "        'people_liable','foreign_worker']\n",
    "for i in columns:\n",
    "    q75,q25=np.percentile(df[i],[75,25])\n",
    "    iqr=q75 - q25\n",
    "    minimum = q25 - 1.5*iqr\n",
    "    maximum = q75 + 1.5*iqr\n",
    "    df.loc[df[i] < minimum, i] = minimum\n",
    "    df.loc[df[i] > maximum, i] = maximum"
   ]
  },
  {
   "cell_type": "code",
   "execution_count": 7,
   "metadata": {
    "scrolled": false
   },
   "outputs": [
    {
     "data": {
      "text/plain": [
       "status                     0\n",
       "duration                   0\n",
       "credit_history             0\n",
       "purpose                    0\n",
       "amount                     0\n",
       "savings                    0\n",
       "employment_duration        0\n",
       "installment_rate           0\n",
       "personal_status_sex        0\n",
       "other_debtors              0\n",
       "present_residence          0\n",
       "property                   0\n",
       "age                        0\n",
       "other_installment_plans    0\n",
       "housing                    0\n",
       "number_credits             0\n",
       "job                        0\n",
       "people_liable              0\n",
       "telephone                  0\n",
       "foreign_worker             0\n",
       "credit_risk                0\n",
       "dtype: int64"
      ]
     },
     "execution_count": 7,
     "metadata": {},
     "output_type": "execute_result"
    }
   ],
   "source": [
    "((df < (q1-1.5*IQR)) | (df > (q3+1.5*IQR))).sum()"
   ]
  },
  {
   "cell_type": "code",
   "execution_count": 8,
   "metadata": {
    "scrolled": false
   },
   "outputs": [
    {
     "data": {
      "text/plain": [
       "status                     0.006957\n",
       "duration                   0.625672\n",
       "credit_history            -0.011886\n",
       "purpose                    0.488335\n",
       "amount                     1.028761\n",
       "savings                    1.016677\n",
       "employment_duration       -0.117615\n",
       "installment_rate          -0.531348\n",
       "personal_status_sex       -0.305146\n",
       "other_debtors              0.000000\n",
       "present_residence         -0.272570\n",
       "property                   0.045673\n",
       "age                        0.906997\n",
       "other_installment_plans    0.000000\n",
       "housing                    0.000000\n",
       "number_credits             1.098240\n",
       "job                        0.000000\n",
       "people_liable              0.000000\n",
       "telephone                  0.391868\n",
       "foreign_worker             0.000000\n",
       "credit_risk               -0.874183\n",
       "dtype: float64"
      ]
     },
     "execution_count": 8,
     "metadata": {},
     "output_type": "execute_result"
    }
   ],
   "source": [
    "df.skew()"
   ]
  },
  {
   "cell_type": "code",
   "execution_count": 9,
   "metadata": {},
   "outputs": [],
   "source": [
    "col=['amount','savings','number_credits']\n",
    "for i in col:\n",
    "    df[i]=np.log(df[i]+1)"
   ]
  },
  {
   "cell_type": "code",
   "execution_count": 10,
   "metadata": {
    "scrolled": false
   },
   "outputs": [
    {
     "data": {
      "text/plain": [
       "status                     0.006957\n",
       "duration                   0.625672\n",
       "credit_history            -0.011886\n",
       "purpose                    0.488335\n",
       "amount                    -0.092265\n",
       "savings                    0.832475\n",
       "employment_duration       -0.117615\n",
       "installment_rate          -0.531348\n",
       "personal_status_sex       -0.305146\n",
       "other_debtors              0.000000\n",
       "present_residence         -0.272570\n",
       "property                   0.045673\n",
       "age                        0.906997\n",
       "other_installment_plans    0.000000\n",
       "housing                    0.000000\n",
       "number_credits             0.824755\n",
       "job                        0.000000\n",
       "people_liable              0.000000\n",
       "telephone                  0.391868\n",
       "foreign_worker             0.000000\n",
       "credit_risk               -0.874183\n",
       "dtype: float64"
      ]
     },
     "execution_count": 10,
     "metadata": {},
     "output_type": "execute_result"
    }
   ],
   "source": [
    "df.skew()"
   ]
  },
  {
   "cell_type": "code",
   "execution_count": 11,
   "metadata": {
    "scrolled": true
   },
   "outputs": [
    {
     "data": {
      "text/html": [
       "<div>\n",
       "<style scoped>\n",
       "    .dataframe tbody tr th:only-of-type {\n",
       "        vertical-align: middle;\n",
       "    }\n",
       "\n",
       "    .dataframe tbody tr th {\n",
       "        vertical-align: top;\n",
       "    }\n",
       "\n",
       "    .dataframe thead th {\n",
       "        text-align: right;\n",
       "    }\n",
       "</style>\n",
       "<table border=\"1\" class=\"dataframe\">\n",
       "  <thead>\n",
       "    <tr style=\"text-align: right;\">\n",
       "      <th></th>\n",
       "      <th>status</th>\n",
       "      <th>duration</th>\n",
       "      <th>credit_history</th>\n",
       "      <th>purpose</th>\n",
       "      <th>amount</th>\n",
       "      <th>savings</th>\n",
       "      <th>employment_duration</th>\n",
       "      <th>installment_rate</th>\n",
       "      <th>personal_status_sex</th>\n",
       "      <th>other_debtors</th>\n",
       "      <th>present_residence</th>\n",
       "      <th>property</th>\n",
       "      <th>age</th>\n",
       "      <th>other_installment_plans</th>\n",
       "      <th>housing</th>\n",
       "      <th>number_credits</th>\n",
       "      <th>job</th>\n",
       "      <th>people_liable</th>\n",
       "      <th>telephone</th>\n",
       "      <th>foreign_worker</th>\n",
       "      <th>credit_risk</th>\n",
       "    </tr>\n",
       "  </thead>\n",
       "  <tbody>\n",
       "    <tr>\n",
       "      <th>0</th>\n",
       "      <td>1</td>\n",
       "      <td>18.0</td>\n",
       "      <td>4</td>\n",
       "      <td>2.0</td>\n",
       "      <td>6.956545</td>\n",
       "      <td>0.693147</td>\n",
       "      <td>2</td>\n",
       "      <td>4</td>\n",
       "      <td>2</td>\n",
       "      <td>1.0</td>\n",
       "      <td>4</td>\n",
       "      <td>2</td>\n",
       "      <td>21.0</td>\n",
       "      <td>3.0</td>\n",
       "      <td>2.0</td>\n",
       "      <td>0.693147</td>\n",
       "      <td>3.0</td>\n",
       "      <td>2.0</td>\n",
       "      <td>1</td>\n",
       "      <td>2.0</td>\n",
       "      <td>1</td>\n",
       "    </tr>\n",
       "    <tr>\n",
       "      <th>1</th>\n",
       "      <td>1</td>\n",
       "      <td>9.0</td>\n",
       "      <td>4</td>\n",
       "      <td>0.0</td>\n",
       "      <td>7.937375</td>\n",
       "      <td>0.693147</td>\n",
       "      <td>3</td>\n",
       "      <td>2</td>\n",
       "      <td>3</td>\n",
       "      <td>1.0</td>\n",
       "      <td>2</td>\n",
       "      <td>1</td>\n",
       "      <td>36.0</td>\n",
       "      <td>3.0</td>\n",
       "      <td>2.0</td>\n",
       "      <td>1.098612</td>\n",
       "      <td>3.0</td>\n",
       "      <td>2.0</td>\n",
       "      <td>1</td>\n",
       "      <td>2.0</td>\n",
       "      <td>1</td>\n",
       "    </tr>\n",
       "    <tr>\n",
       "      <th>2</th>\n",
       "      <td>2</td>\n",
       "      <td>12.0</td>\n",
       "      <td>2</td>\n",
       "      <td>6.0</td>\n",
       "      <td>6.735780</td>\n",
       "      <td>1.098612</td>\n",
       "      <td>4</td>\n",
       "      <td>2</td>\n",
       "      <td>2</td>\n",
       "      <td>1.0</td>\n",
       "      <td>4</td>\n",
       "      <td>1</td>\n",
       "      <td>23.0</td>\n",
       "      <td>3.0</td>\n",
       "      <td>2.0</td>\n",
       "      <td>0.693147</td>\n",
       "      <td>3.0</td>\n",
       "      <td>2.0</td>\n",
       "      <td>1</td>\n",
       "      <td>2.0</td>\n",
       "      <td>1</td>\n",
       "    </tr>\n",
       "    <tr>\n",
       "      <th>3</th>\n",
       "      <td>1</td>\n",
       "      <td>12.0</td>\n",
       "      <td>4</td>\n",
       "      <td>0.0</td>\n",
       "      <td>7.660585</td>\n",
       "      <td>0.693147</td>\n",
       "      <td>3</td>\n",
       "      <td>3</td>\n",
       "      <td>3</td>\n",
       "      <td>1.0</td>\n",
       "      <td>2</td>\n",
       "      <td>1</td>\n",
       "      <td>39.0</td>\n",
       "      <td>3.0</td>\n",
       "      <td>2.0</td>\n",
       "      <td>1.098612</td>\n",
       "      <td>3.0</td>\n",
       "      <td>2.0</td>\n",
       "      <td>1</td>\n",
       "      <td>2.0</td>\n",
       "      <td>1</td>\n",
       "    </tr>\n",
       "    <tr>\n",
       "      <th>4</th>\n",
       "      <td>1</td>\n",
       "      <td>12.0</td>\n",
       "      <td>4</td>\n",
       "      <td>0.0</td>\n",
       "      <td>7.683404</td>\n",
       "      <td>0.693147</td>\n",
       "      <td>3</td>\n",
       "      <td>4</td>\n",
       "      <td>3</td>\n",
       "      <td>1.0</td>\n",
       "      <td>4</td>\n",
       "      <td>2</td>\n",
       "      <td>38.0</td>\n",
       "      <td>3.0</td>\n",
       "      <td>2.0</td>\n",
       "      <td>1.098612</td>\n",
       "      <td>3.0</td>\n",
       "      <td>2.0</td>\n",
       "      <td>1</td>\n",
       "      <td>2.0</td>\n",
       "      <td>1</td>\n",
       "    </tr>\n",
       "  </tbody>\n",
       "</table>\n",
       "</div>"
      ],
      "text/plain": [
       "   status  duration  credit_history  purpose    amount   savings  \\\n",
       "0       1      18.0               4      2.0  6.956545  0.693147   \n",
       "1       1       9.0               4      0.0  7.937375  0.693147   \n",
       "2       2      12.0               2      6.0  6.735780  1.098612   \n",
       "3       1      12.0               4      0.0  7.660585  0.693147   \n",
       "4       1      12.0               4      0.0  7.683404  0.693147   \n",
       "\n",
       "   employment_duration  installment_rate  personal_status_sex  other_debtors  \\\n",
       "0                    2                 4                    2            1.0   \n",
       "1                    3                 2                    3            1.0   \n",
       "2                    4                 2                    2            1.0   \n",
       "3                    3                 3                    3            1.0   \n",
       "4                    3                 4                    3            1.0   \n",
       "\n",
       "   present_residence  property   age  other_installment_plans  housing  \\\n",
       "0                  4         2  21.0                      3.0      2.0   \n",
       "1                  2         1  36.0                      3.0      2.0   \n",
       "2                  4         1  23.0                      3.0      2.0   \n",
       "3                  2         1  39.0                      3.0      2.0   \n",
       "4                  4         2  38.0                      3.0      2.0   \n",
       "\n",
       "   number_credits  job  people_liable  telephone  foreign_worker  credit_risk  \n",
       "0        0.693147  3.0            2.0          1             2.0            1  \n",
       "1        1.098612  3.0            2.0          1             2.0            1  \n",
       "2        0.693147  3.0            2.0          1             2.0            1  \n",
       "3        1.098612  3.0            2.0          1             2.0            1  \n",
       "4        1.098612  3.0            2.0          1             2.0            1  "
      ]
     },
     "execution_count": 11,
     "metadata": {},
     "output_type": "execute_result"
    }
   ],
   "source": [
    "df.head()"
   ]
  },
  {
   "cell_type": "code",
   "execution_count": 12,
   "metadata": {
    "scrolled": false
   },
   "outputs": [
    {
     "data": {
      "image/png": "[encoded data removed]",
      "text/plain": [
       "<Figure size 360x360 with 1 Axes>"
      ]
     },
     "metadata": {
      "needs_background": "light"
     },
     "output_type": "display_data"
    },
    {
     "data": {
      "image/png": "[encoded data removed]",
      "text/plain": [
       "<Figure size 360x360 with 1 Axes>"
      ]
     },
     "metadata": {
      "needs_background": "light"
     },
     "output_type": "display_data"
    },
    {
     "data": {
      "image/png": "[encoded data removed]",
      "text/plain": [
       "<Figure size 360x360 with 1 Axes>"
      ]
     },
     "metadata": {
      "needs_background": "light"
     },
     "output_type": "display_data"
    },
    {
     "data": {
      "image/png": "[encoded data removed]",
      "text/plain": [
       "<Figure size 360x360 with 1 Axes>"
      ]
     },
     "metadata": {
      "needs_background": "light"
     },
     "output_type": "display_data"
    },
    {
     "data": {
      "image/png": "[encoded data removed]",
      "text/plain": [
       "<Figure size 360x360 with 1 Axes>"
      ]
     },
     "metadata": {
      "needs_background": "light"
     },
     "output_type": "display_data"
    },
    {
     "data": {
      "image/png": "[encoded data removed]",
      "text/plain": [
       "<Figure size 360x360 with 1 Axes>"
      ]
     },
     "metadata": {
      "needs_background": "light"
     },
     "output_type": "display_data"
    },
    {
     "data": {
      "image/png": "[encoded data removed]",
      "text/plain": [
       "<Figure size 360x360 with 1 Axes>"
      ]
     },
     "metadata": {
      "needs_background": "light"
     },
     "output_type": "display_data"
    },
    {
     "data": {
      "image/png": "[encoded data removed]",
      "text/plain": [
       "<Figure size 360x360 with 1 Axes>"
      ]
     },
     "metadata": {
      "needs_background": "light"
     },
     "output_type": "display_data"
    },
    {
     "data": {
      "image/png": "[encoded data removed]",
      "text/plain": [
       "<Figure size 360x360 with 1 Axes>"
      ]
     },
     "metadata": {
      "needs_background": "light"
     },
     "output_type": "display_data"
    },
    {
     "data": {
      "image/png": "[encoded data removed]",
      "text/plain": [
       "<Figure size 360x360 with 1 Axes>"
      ]
     },
     "metadata": {
      "needs_background": "light"
     },
     "output_type": "display_data"
    },
    {
     "data": {
      "image/png": "[encoded data removed]",
      "text/plain": [
       "<Figure size 360x360 with 1 Axes>"
      ]
     },
     "metadata": {
      "needs_background": "light"
     },
     "output_type": "display_data"
    },
    {
     "data": {
      "image/png": "[encoded data removed]",
      "text/plain": [
       "<Figure size 360x360 with 1 Axes>"
      ]
     },
     "metadata": {
      "needs_background": "light"
     },
     "output_type": "display_data"
    },
    {
     "data": {
      "image/png": "[encoded data removed]",
      "text/plain": [
       "<Figure size 360x360 with 1 Axes>"
      ]
     },
     "metadata": {
      "needs_background": "light"
     },
     "output_type": "display_data"
    },
    {
     "data": {
      "image/png": "[encoded data removed]",
      "text/plain": [
       "<Figure size 360x360 with 1 Axes>"
      ]
     },
     "metadata": {
      "needs_background": "light"
     },
     "output_type": "display_data"
    },
    {
     "data": {
      "image/png": "[encoded data removed]",
      "text/plain": [
       "<Figure size 360x360 with 1 Axes>"
      ]
     },
     "metadata": {
      "needs_background": "light"
     },
     "output_type": "display_data"
    },
    {
     "data": {
      "image/png": "[encoded data removed]",
      "text/plain": [
       "<Figure size 360x360 with 1 Axes>"
      ]
     },
     "metadata": {
      "needs_background": "light"
     },
     "output_type": "display_data"
    },
    {
     "data": {
      "image/png": "[encoded data removed]",
      "text/plain": [
       "<Figure size 360x360 with 1 Axes>"
      ]
     },
     "metadata": {
      "needs_background": "light"
     },
     "output_type": "display_data"
    },
    {
     "data": {
      "image/png": "[encoded data removed]",
      "text/plain": [
       "<Figure size 360x360 with 1 Axes>"
      ]
     },
     "metadata": {
      "needs_background": "light"
     },
     "output_type": "display_data"
    },
    {
     "data": {
      "image/png": "[encoded data removed]",
      "text/plain": [
       "<Figure size 360x360 with 1 Axes>"
      ]
     },
     "metadata": {
      "needs_background": "light"
     },
     "output_type": "display_data"
    },
    {
     "data": {
      "image/png": "[encoded data removed]",
      "text/plain": [
       "<Figure size 360x360 with 1 Axes>"
      ]
     },
     "metadata": {
      "needs_background": "light"
     },
     "output_type": "display_data"
    },
    {
     "data": {
      "image/png": "[encoded data removed]",
      "text/plain": [
       "<Figure size 360x360 with 1 Axes>"
      ]
     },
     "metadata": {
      "needs_background": "light"
     },
     "output_type": "display_data"
    }
   ],
   "source": [
    "for i in df.columns:\n",
    "    sns.displot(data=df,x=i,kde=True)"
   ]
  },
  {
   "cell_type": "code",
   "execution_count": 13,
   "metadata": {},
   "outputs": [],
   "source": [
    "del df['other_debtors']\n",
    "del df['other_installment_plans']\n",
    "del df['housing']\n",
    "del df['job']\n",
    "del df['people_liable']\n",
    "del df['foreign_worker']"
   ]
  },
  {
   "cell_type": "code",
   "execution_count": 14,
   "metadata": {
    "scrolled": true
   },
   "outputs": [],
   "source": [
    "scaling = [feature for feature in df.columns if feature not in ['credit_risk']]"
   ]
  },
  {
   "cell_type": "code",
   "execution_count": 15,
   "metadata": {
    "scrolled": true
   },
   "outputs": [
    {
     "data": {
      "text/plain": [
       "StandardScaler()"
      ]
     },
     "execution_count": 15,
     "metadata": {},
     "output_type": "execute_result"
    }
   ],
   "source": [
    "from sklearn.preprocessing import StandardScaler\n",
    "scaler = StandardScaler()\n",
    "scaler.fit(df[scaling])"
   ]
  },
  {
   "cell_type": "code",
   "execution_count": 16,
   "metadata": {},
   "outputs": [
    {
     "data": {
      "text/plain": [
       "array([[-1.25456565, -0.21743962,  1.34401408, ..., -1.30441307,\n",
       "        -0.73657304, -0.82331789],\n",
       "       [-1.25456565, -1.0657086 ,  1.34401408, ...,  0.0496958 ,\n",
       "         1.13829638, -0.82331789],\n",
       "       [-0.45902624, -0.78295227, -0.50342796, ..., -1.12386522,\n",
       "        -0.73657304, -0.82331789],\n",
       "       ...,\n",
       "       [ 1.13205258,  0.06531671,  1.34401408, ..., -0.49194775,\n",
       "        -0.73657304,  1.21459768],\n",
       "       [-0.45902624, -0.78295227, -0.50342796, ...,  1.49407859,\n",
       "        -0.73657304,  1.21459768],\n",
       "       [-1.25456565,  0.91358569, -0.50342796, ..., -0.40167383,\n",
       "        -0.73657304, -0.82331789]])"
      ]
     },
     "execution_count": 16,
     "metadata": {},
     "output_type": "execute_result"
    }
   ],
   "source": [
    "scaler.transform(df[scaling])"
   ]
  },
  {
   "cell_type": "code",
   "execution_count": 17,
   "metadata": {},
   "outputs": [
    {
     "data": {
      "text/html": [
       "<div>\n",
       "<style scoped>\n",
       "    .dataframe tbody tr th:only-of-type {\n",
       "        vertical-align: middle;\n",
       "    }\n",
       "\n",
       "    .dataframe tbody tr th {\n",
       "        vertical-align: top;\n",
       "    }\n",
       "\n",
       "    .dataframe thead th {\n",
       "        text-align: right;\n",
       "    }\n",
       "</style>\n",
       "<table border=\"1\" class=\"dataframe\">\n",
       "  <thead>\n",
       "    <tr style=\"text-align: right;\">\n",
       "      <th></th>\n",
       "      <th>status</th>\n",
       "      <th>duration</th>\n",
       "      <th>credit_history</th>\n",
       "      <th>purpose</th>\n",
       "      <th>amount</th>\n",
       "      <th>savings</th>\n",
       "      <th>employment_duration</th>\n",
       "      <th>installment_rate</th>\n",
       "      <th>personal_status_sex</th>\n",
       "      <th>present_residence</th>\n",
       "      <th>property</th>\n",
       "      <th>age</th>\n",
       "      <th>number_credits</th>\n",
       "      <th>telephone</th>\n",
       "    </tr>\n",
       "  </thead>\n",
       "  <tbody>\n",
       "    <tr>\n",
       "      <th>0</th>\n",
       "      <td>-1.254566</td>\n",
       "      <td>-0.217440</td>\n",
       "      <td>1.344014</td>\n",
       "      <td>-0.234588</td>\n",
       "      <td>-1.103856</td>\n",
       "      <td>-0.740466</td>\n",
       "      <td>-1.145978</td>\n",
       "      <td>0.918477</td>\n",
       "      <td>-0.963650</td>\n",
       "      <td>1.046987</td>\n",
       "      <td>-0.341055</td>\n",
       "      <td>-1.304413</td>\n",
       "      <td>-0.736573</td>\n",
       "      <td>-0.823318</td>\n",
       "    </tr>\n",
       "    <tr>\n",
       "      <th>1</th>\n",
       "      <td>-1.254566</td>\n",
       "      <td>-1.065709</td>\n",
       "      <td>1.344014</td>\n",
       "      <td>-1.230716</td>\n",
       "      <td>0.231565</td>\n",
       "      <td>-0.740466</td>\n",
       "      <td>-0.317959</td>\n",
       "      <td>-0.870183</td>\n",
       "      <td>0.449326</td>\n",
       "      <td>-0.765977</td>\n",
       "      <td>-1.293723</td>\n",
       "      <td>0.049696</td>\n",
       "      <td>1.138296</td>\n",
       "      <td>-0.823318</td>\n",
       "    </tr>\n",
       "    <tr>\n",
       "      <th>2</th>\n",
       "      <td>-0.459026</td>\n",
       "      <td>-0.782952</td>\n",
       "      <td>-0.503428</td>\n",
       "      <td>1.757667</td>\n",
       "      <td>-1.404433</td>\n",
       "      <td>0.168067</td>\n",
       "      <td>0.510060</td>\n",
       "      <td>-0.870183</td>\n",
       "      <td>-0.963650</td>\n",
       "      <td>1.046987</td>\n",
       "      <td>-1.293723</td>\n",
       "      <td>-1.123865</td>\n",
       "      <td>-0.736573</td>\n",
       "      <td>-0.823318</td>\n",
       "    </tr>\n",
       "    <tr>\n",
       "      <th>3</th>\n",
       "      <td>-1.254566</td>\n",
       "      <td>-0.782952</td>\n",
       "      <td>1.344014</td>\n",
       "      <td>-1.230716</td>\n",
       "      <td>-0.145290</td>\n",
       "      <td>-0.740466</td>\n",
       "      <td>-0.317959</td>\n",
       "      <td>0.024147</td>\n",
       "      <td>0.449326</td>\n",
       "      <td>-0.765977</td>\n",
       "      <td>-1.293723</td>\n",
       "      <td>0.320518</td>\n",
       "      <td>1.138296</td>\n",
       "      <td>-0.823318</td>\n",
       "    </tr>\n",
       "    <tr>\n",
       "      <th>4</th>\n",
       "      <td>-1.254566</td>\n",
       "      <td>-0.782952</td>\n",
       "      <td>1.344014</td>\n",
       "      <td>-1.230716</td>\n",
       "      <td>-0.114223</td>\n",
       "      <td>-0.740466</td>\n",
       "      <td>-0.317959</td>\n",
       "      <td>0.918477</td>\n",
       "      <td>0.449326</td>\n",
       "      <td>1.046987</td>\n",
       "      <td>-0.341055</td>\n",
       "      <td>0.230244</td>\n",
       "      <td>1.138296</td>\n",
       "      <td>-0.823318</td>\n",
       "    </tr>\n",
       "  </tbody>\n",
       "</table>\n",
       "</div>"
      ],
      "text/plain": [
       "     status  duration  credit_history   purpose    amount   savings  \\\n",
       "0 -1.254566 -0.217440        1.344014 -0.234588 -1.103856 -0.740466   \n",
       "1 -1.254566 -1.065709        1.344014 -1.230716  0.231565 -0.740466   \n",
       "2 -0.459026 -0.782952       -0.503428  1.757667 -1.404433  0.168067   \n",
       "3 -1.254566 -0.782952        1.344014 -1.230716 -0.145290 -0.740466   \n",
       "4 -1.254566 -0.782952        1.344014 -1.230716 -0.114223 -0.740466   \n",
       "\n",
       "   employment_duration  installment_rate  personal_status_sex  \\\n",
       "0            -1.145978          0.918477            -0.963650   \n",
       "1            -0.317959         -0.870183             0.449326   \n",
       "2             0.510060         -0.870183            -0.963650   \n",
       "3            -0.317959          0.024147             0.449326   \n",
       "4            -0.317959          0.918477             0.449326   \n",
       "\n",
       "   present_residence  property       age  number_credits  telephone  \n",
       "0           1.046987 -0.341055 -1.304413       -0.736573  -0.823318  \n",
       "1          -0.765977 -1.293723  0.049696        1.138296  -0.823318  \n",
       "2           1.046987 -1.293723 -1.123865       -0.736573  -0.823318  \n",
       "3          -0.765977 -1.293723  0.320518        1.138296  -0.823318  \n",
       "4           1.046987 -0.341055  0.230244        1.138296  -0.823318  "
      ]
     },
     "execution_count": 17,
     "metadata": {},
     "output_type": "execute_result"
    }
   ],
   "source": [
    "df2=pd.DataFrame(scaler.transform(df[scaling]),columns=df[scaling].columns)\n",
    "df2.head()"
   ]
  },
  {
   "cell_type": "code",
   "execution_count": 18,
   "metadata": {},
   "outputs": [
    {
     "data": {
      "text/html": [
       "<div>\n",
       "<style scoped>\n",
       "    .dataframe tbody tr th:only-of-type {\n",
       "        vertical-align: middle;\n",
       "    }\n",
       "\n",
       "    .dataframe tbody tr th {\n",
       "        vertical-align: top;\n",
       "    }\n",
       "\n",
       "    .dataframe thead th {\n",
       "        text-align: right;\n",
       "    }\n",
       "</style>\n",
       "<table border=\"1\" class=\"dataframe\">\n",
       "  <thead>\n",
       "    <tr style=\"text-align: right;\">\n",
       "      <th></th>\n",
       "      <th>credit_risk</th>\n",
       "      <th>status</th>\n",
       "      <th>duration</th>\n",
       "      <th>credit_history</th>\n",
       "      <th>purpose</th>\n",
       "      <th>amount</th>\n",
       "      <th>savings</th>\n",
       "      <th>employment_duration</th>\n",
       "      <th>installment_rate</th>\n",
       "      <th>personal_status_sex</th>\n",
       "      <th>present_residence</th>\n",
       "      <th>property</th>\n",
       "      <th>age</th>\n",
       "      <th>number_credits</th>\n",
       "      <th>telephone</th>\n",
       "    </tr>\n",
       "  </thead>\n",
       "  <tbody>\n",
       "    <tr>\n",
       "      <th>0</th>\n",
       "      <td>1</td>\n",
       "      <td>-1.254566</td>\n",
       "      <td>-0.217440</td>\n",
       "      <td>1.344014</td>\n",
       "      <td>-0.234588</td>\n",
       "      <td>-1.103856</td>\n",
       "      <td>-0.740466</td>\n",
       "      <td>-1.145978</td>\n",
       "      <td>0.918477</td>\n",
       "      <td>-0.963650</td>\n",
       "      <td>1.046987</td>\n",
       "      <td>-0.341055</td>\n",
       "      <td>-1.304413</td>\n",
       "      <td>-0.736573</td>\n",
       "      <td>-0.823318</td>\n",
       "    </tr>\n",
       "    <tr>\n",
       "      <th>1</th>\n",
       "      <td>1</td>\n",
       "      <td>-1.254566</td>\n",
       "      <td>-1.065709</td>\n",
       "      <td>1.344014</td>\n",
       "      <td>-1.230716</td>\n",
       "      <td>0.231565</td>\n",
       "      <td>-0.740466</td>\n",
       "      <td>-0.317959</td>\n",
       "      <td>-0.870183</td>\n",
       "      <td>0.449326</td>\n",
       "      <td>-0.765977</td>\n",
       "      <td>-1.293723</td>\n",
       "      <td>0.049696</td>\n",
       "      <td>1.138296</td>\n",
       "      <td>-0.823318</td>\n",
       "    </tr>\n",
       "    <tr>\n",
       "      <th>2</th>\n",
       "      <td>1</td>\n",
       "      <td>-0.459026</td>\n",
       "      <td>-0.782952</td>\n",
       "      <td>-0.503428</td>\n",
       "      <td>1.757667</td>\n",
       "      <td>-1.404433</td>\n",
       "      <td>0.168067</td>\n",
       "      <td>0.510060</td>\n",
       "      <td>-0.870183</td>\n",
       "      <td>-0.963650</td>\n",
       "      <td>1.046987</td>\n",
       "      <td>-1.293723</td>\n",
       "      <td>-1.123865</td>\n",
       "      <td>-0.736573</td>\n",
       "      <td>-0.823318</td>\n",
       "    </tr>\n",
       "    <tr>\n",
       "      <th>3</th>\n",
       "      <td>1</td>\n",
       "      <td>-1.254566</td>\n",
       "      <td>-0.782952</td>\n",
       "      <td>1.344014</td>\n",
       "      <td>-1.230716</td>\n",
       "      <td>-0.145290</td>\n",
       "      <td>-0.740466</td>\n",
       "      <td>-0.317959</td>\n",
       "      <td>0.024147</td>\n",
       "      <td>0.449326</td>\n",
       "      <td>-0.765977</td>\n",
       "      <td>-1.293723</td>\n",
       "      <td>0.320518</td>\n",
       "      <td>1.138296</td>\n",
       "      <td>-0.823318</td>\n",
       "    </tr>\n",
       "    <tr>\n",
       "      <th>4</th>\n",
       "      <td>1</td>\n",
       "      <td>-1.254566</td>\n",
       "      <td>-0.782952</td>\n",
       "      <td>1.344014</td>\n",
       "      <td>-1.230716</td>\n",
       "      <td>-0.114223</td>\n",
       "      <td>-0.740466</td>\n",
       "      <td>-0.317959</td>\n",
       "      <td>0.918477</td>\n",
       "      <td>0.449326</td>\n",
       "      <td>1.046987</td>\n",
       "      <td>-0.341055</td>\n",
       "      <td>0.230244</td>\n",
       "      <td>1.138296</td>\n",
       "      <td>-0.823318</td>\n",
       "    </tr>\n",
       "  </tbody>\n",
       "</table>\n",
       "</div>"
      ],
      "text/plain": [
       "   credit_risk    status  duration  credit_history   purpose    amount  \\\n",
       "0            1 -1.254566 -0.217440        1.344014 -0.234588 -1.103856   \n",
       "1            1 -1.254566 -1.065709        1.344014 -1.230716  0.231565   \n",
       "2            1 -0.459026 -0.782952       -0.503428  1.757667 -1.404433   \n",
       "3            1 -1.254566 -0.782952        1.344014 -1.230716 -0.145290   \n",
       "4            1 -1.254566 -0.782952        1.344014 -1.230716 -0.114223   \n",
       "\n",
       "    savings  employment_duration  installment_rate  personal_status_sex  \\\n",
       "0 -0.740466            -1.145978          0.918477            -0.963650   \n",
       "1 -0.740466            -0.317959         -0.870183             0.449326   \n",
       "2  0.168067             0.510060         -0.870183            -0.963650   \n",
       "3 -0.740466            -0.317959          0.024147             0.449326   \n",
       "4 -0.740466            -0.317959          0.918477             0.449326   \n",
       "\n",
       "   present_residence  property       age  number_credits  telephone  \n",
       "0           1.046987 -0.341055 -1.304413       -0.736573  -0.823318  \n",
       "1          -0.765977 -1.293723  0.049696        1.138296  -0.823318  \n",
       "2           1.046987 -1.293723 -1.123865       -0.736573  -0.823318  \n",
       "3          -0.765977 -1.293723  0.320518        1.138296  -0.823318  \n",
       "4           1.046987 -0.341055  0.230244        1.138296  -0.823318  "
      ]
     },
     "execution_count": 18,
     "metadata": {},
     "output_type": "execute_result"
    }
   ],
   "source": [
    "final=pd.concat([df[['credit_risk']].reset_index(drop=True),df2],axis=1)\n",
    "final.head()"
   ]
  },
  {
   "cell_type": "code",
   "execution_count": 19,
   "metadata": {},
   "outputs": [],
   "source": [
    "#final.to_csv(r'C:\\Users\\Lenovo\\PycharmProjects\\GermanBankCreditCard\\SouthGermanCredit\\Final_Model.csv')"
   ]
  },
  {
   "cell_type": "code",
   "execution_count": 20,
   "metadata": {},
   "outputs": [],
   "source": [
    "#import pickle\n",
    "#file = 'Scaler_Credit_Data.pkl'\n",
    "\n",
    "#pickle.dump(scaler,open(file,'wb'))"
   ]
  },
  {
   "cell_type": "code",
   "execution_count": null,
   "metadata": {},
   "outputs": [],
   "source": []
  }
 ],
 "metadata": {
  "kernelspec": {
   "display_name": "Python 3",
   "language": "python",
   "name": "python3"
  },
  "language_info": {
   "codemirror_mode": {
    "name": "ipython",
    "version": 3
   },
   "file_extension": ".py",
   "mimetype": "text/x-python",
   "name": "python",
   "nbconvert_exporter": "python",
   "pygments_lexer": "ipython3",
   "version": "3.8.5"
  }
 },
 "nbformat": 4,
 "nbformat_minor": 4
}
