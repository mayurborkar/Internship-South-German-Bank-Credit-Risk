{
 "cells": [
  {
   "cell_type": "code",
   "execution_count": 1,
   "metadata": {},
   "outputs": [],
   "source": [
    "from sklearn.model_selection import train_test_split, cross_val_score,KFold, RepeatedStratifiedKFold\n",
    "from sklearn.ensemble import RandomForestClassifier,GradientBoostingClassifier,AdaBoostClassifier\n",
    "from sklearn.metrics import accuracy_score,confusion_matrix,precision_score,recall_score\n",
    "from sklearn.model_selection import GridSearchCV, RandomizedSearchCV\n",
    "from sklearn.linear_model import SGDClassifier,LogisticRegression\n",
    "from sklearn.tree import DecisionTreeClassifier\n",
    "from sklearn.ensemble import BaggingClassifier\n",
    "from imblearn.over_sampling import ADASYN\n",
    "from lightgbm import LGBMClassifier\n",
    "from xgboost import XGBClassifier\n",
    "from collections import Counter\n",
    "from scipy.stats import randint\n",
    "from sklearn.svm import SVC\n",
    "import pandas as pd\n",
    "import numpy as np\n",
    "import warnings"
   ]
  },
  {
   "cell_type": "code",
   "execution_count": 2,
   "metadata": {},
   "outputs": [],
   "source": [
    "pd.set_option('display.max_columns',None)\n",
    "warnings.filterwarnings('ignore')"
   ]
  },
  {
   "cell_type": "code",
   "execution_count": 3,
   "metadata": {},
   "outputs": [
    {
     "data": {
      "text/html": [
       "<div>\n",
       "<style scoped>\n",
       "    .dataframe tbody tr th:only-of-type {\n",
       "        vertical-align: middle;\n",
       "    }\n",
       "\n",
       "    .dataframe tbody tr th {\n",
       "        vertical-align: top;\n",
       "    }\n",
       "\n",
       "    .dataframe thead th {\n",
       "        text-align: right;\n",
       "    }\n",
       "</style>\n",
       "<table border=\"1\" class=\"dataframe\">\n",
       "  <thead>\n",
       "    <tr style=\"text-align: right;\">\n",
       "      <th></th>\n",
       "      <th>credit_risk</th>\n",
       "      <th>status</th>\n",
       "      <th>duration</th>\n",
       "      <th>credit_history</th>\n",
       "      <th>purpose</th>\n",
       "      <th>amount</th>\n",
       "      <th>savings</th>\n",
       "      <th>employment_duration</th>\n",
       "      <th>installment_rate</th>\n",
       "      <th>personal_status_sex</th>\n",
       "      <th>present_residence</th>\n",
       "      <th>property</th>\n",
       "      <th>age</th>\n",
       "      <th>number_credits</th>\n",
       "      <th>telephone</th>\n",
       "    </tr>\n",
       "  </thead>\n",
       "  <tbody>\n",
       "    <tr>\n",
       "      <th>0</th>\n",
       "      <td>1</td>\n",
       "      <td>-1.254566</td>\n",
       "      <td>-0.217440</td>\n",
       "      <td>1.344014</td>\n",
       "      <td>-0.234588</td>\n",
       "      <td>-1.103856</td>\n",
       "      <td>-0.740466</td>\n",
       "      <td>-1.145978</td>\n",
       "      <td>0.918477</td>\n",
       "      <td>-0.963650</td>\n",
       "      <td>1.046987</td>\n",
       "      <td>-0.341055</td>\n",
       "      <td>-1.304413</td>\n",
       "      <td>-0.736573</td>\n",
       "      <td>-0.823318</td>\n",
       "    </tr>\n",
       "    <tr>\n",
       "      <th>1</th>\n",
       "      <td>1</td>\n",
       "      <td>-1.254566</td>\n",
       "      <td>-1.065709</td>\n",
       "      <td>1.344014</td>\n",
       "      <td>-1.230716</td>\n",
       "      <td>0.231565</td>\n",
       "      <td>-0.740466</td>\n",
       "      <td>-0.317959</td>\n",
       "      <td>-0.870183</td>\n",
       "      <td>0.449326</td>\n",
       "      <td>-0.765977</td>\n",
       "      <td>-1.293723</td>\n",
       "      <td>0.049696</td>\n",
       "      <td>1.138296</td>\n",
       "      <td>-0.823318</td>\n",
       "    </tr>\n",
       "    <tr>\n",
       "      <th>2</th>\n",
       "      <td>1</td>\n",
       "      <td>-0.459026</td>\n",
       "      <td>-0.782952</td>\n",
       "      <td>-0.503428</td>\n",
       "      <td>1.757667</td>\n",
       "      <td>-1.404433</td>\n",
       "      <td>0.168067</td>\n",
       "      <td>0.510060</td>\n",
       "      <td>-0.870183</td>\n",
       "      <td>-0.963650</td>\n",
       "      <td>1.046987</td>\n",
       "      <td>-1.293723</td>\n",
       "      <td>-1.123865</td>\n",
       "      <td>-0.736573</td>\n",
       "      <td>-0.823318</td>\n",
       "    </tr>\n",
       "    <tr>\n",
       "      <th>3</th>\n",
       "      <td>1</td>\n",
       "      <td>-1.254566</td>\n",
       "      <td>-0.782952</td>\n",
       "      <td>1.344014</td>\n",
       "      <td>-1.230716</td>\n",
       "      <td>-0.145290</td>\n",
       "      <td>-0.740466</td>\n",
       "      <td>-0.317959</td>\n",
       "      <td>0.024147</td>\n",
       "      <td>0.449326</td>\n",
       "      <td>-0.765977</td>\n",
       "      <td>-1.293723</td>\n",
       "      <td>0.320518</td>\n",
       "      <td>1.138296</td>\n",
       "      <td>-0.823318</td>\n",
       "    </tr>\n",
       "    <tr>\n",
       "      <th>4</th>\n",
       "      <td>1</td>\n",
       "      <td>-1.254566</td>\n",
       "      <td>-0.782952</td>\n",
       "      <td>1.344014</td>\n",
       "      <td>-1.230716</td>\n",
       "      <td>-0.114223</td>\n",
       "      <td>-0.740466</td>\n",
       "      <td>-0.317959</td>\n",
       "      <td>0.918477</td>\n",
       "      <td>0.449326</td>\n",
       "      <td>1.046987</td>\n",
       "      <td>-0.341055</td>\n",
       "      <td>0.230244</td>\n",
       "      <td>1.138296</td>\n",
       "      <td>-0.823318</td>\n",
       "    </tr>\n",
       "  </tbody>\n",
       "</table>\n",
       "</div>"
      ],
      "text/plain": [
       "   credit_risk    status  duration  credit_history   purpose    amount  \\\n",
       "0            1 -1.254566 -0.217440        1.344014 -0.234588 -1.103856   \n",
       "1            1 -1.254566 -1.065709        1.344014 -1.230716  0.231565   \n",
       "2            1 -0.459026 -0.782952       -0.503428  1.757667 -1.404433   \n",
       "3            1 -1.254566 -0.782952        1.344014 -1.230716 -0.145290   \n",
       "4            1 -1.254566 -0.782952        1.344014 -1.230716 -0.114223   \n",
       "\n",
       "    savings  employment_duration  installment_rate  personal_status_sex  \\\n",
       "0 -0.740466            -1.145978          0.918477            -0.963650   \n",
       "1 -0.740466            -0.317959         -0.870183             0.449326   \n",
       "2  0.168067             0.510060         -0.870183            -0.963650   \n",
       "3 -0.740466            -0.317959          0.024147             0.449326   \n",
       "4 -0.740466            -0.317959          0.918477             0.449326   \n",
       "\n",
       "   present_residence  property       age  number_credits  telephone  \n",
       "0           1.046987 -0.341055 -1.304413       -0.736573  -0.823318  \n",
       "1          -0.765977 -1.293723  0.049696        1.138296  -0.823318  \n",
       "2           1.046987 -1.293723 -1.123865       -0.736573  -0.823318  \n",
       "3          -0.765977 -1.293723  0.320518        1.138296  -0.823318  \n",
       "4           1.046987 -0.341055  0.230244        1.138296  -0.823318  "
      ]
     },
     "execution_count": 3,
     "metadata": {},
     "output_type": "execute_result"
    }
   ],
   "source": [
    "df = pd.read_csv(r\"C:\\Users\\Lenovo\\PycharmProjects\\GermanBankCreditCard\\SouthGermanCredit\\Final_Model.csv\")\n",
    "df.drop(['Unnamed: 0'],axis=1,inplace=True)\n",
    "df.head()"
   ]
  },
  {
   "cell_type": "code",
   "execution_count": 4,
   "metadata": {},
   "outputs": [],
   "source": [
    "X=df.drop(['credit_risk'],axis=1)\n",
    "y=df['credit_risk']"
   ]
  },
  {
   "cell_type": "code",
   "execution_count": 5,
   "metadata": {},
   "outputs": [],
   "source": [
    "X_train, X_test, y_train, y_test = train_test_split(X, y, test_size=0.2, random_state=42)"
   ]
  },
  {
   "cell_type": "code",
   "execution_count": 6,
   "metadata": {},
   "outputs": [],
   "source": [
    "def model(X=X_train, y=y_train):\n",
    "    \n",
    "    models=[]\n",
    "    models.append(('GradientBoostingClassifier',GradientBoostingClassifier()))\n",
    "    models.append(('XGBClassifier',XGBClassifier(eval_metric='mlogloss')))\n",
    "    models.append(('DecisionTreeClassifier',DecisionTreeClassifier()))\n",
    "    models.append(('RandomForestClassifier',RandomForestClassifier()))\n",
    "    models.append(('AdaBoostClassifier',AdaBoostClassifier()))\n",
    "    models.append(('LogisticRegression',LogisticRegression()))\n",
    "    models.append(('BaggingClassifier',BaggingClassifier()))\n",
    "    models.append(('LGBMClassifier',LGBMClassifier()))\n",
    "    models.append(('SGDClassifier',SGDClassifier()))\n",
    "    models.append(('SVC',SVC()))\n",
    "    \n",
    "    results =[]\n",
    "    names   =[]\n",
    "    scoring ='accuracy'\n",
    "    \n",
    "    for name, model in models:\n",
    "        #kfold = KFold(n_splits=10, random_state=42)\n",
    "        kfold = RepeatedStratifiedKFold(n_splits=10, random_state=42, n_repeats=3)\n",
    "        cross = cross_val_score(model, X, y, cv=kfold, scoring=scoring)\n",
    "        results.append(cross)\n",
    "        names.append(name)\n",
    "        print (f'Model:{name},Mean: {cross.mean()},Std Dev: {cross.std()}')\n",
    "        print('---'*25)"
   ]
  },
  {
   "cell_type": "code",
   "execution_count": 7,
   "metadata": {
    "scrolled": true
   },
   "outputs": [
    {
     "name": "stdout",
     "output_type": "stream",
     "text": [
      "Model:GradientBoostingClassifier,Mean: 0.7662499999999999,Std Dev: 0.047450632240255766\n",
      "---------------------------------------------------------------------------\n",
      "Model:XGBClassifier,Mean: 0.75,Std Dev: 0.0484122918275927\n",
      "---------------------------------------------------------------------------\n",
      "Model:DecisionTreeClassifier,Mean: 0.6979166666666667,Std Dev: 0.05774254401123047\n",
      "---------------------------------------------------------------------------\n",
      "Model:RandomForestClassifier,Mean: 0.7608333333333335,Std Dev: 0.04433928531474343\n",
      "---------------------------------------------------------------------------\n",
      "Model:AdaBoostClassifier,Mean: 0.7595833333333333,Std Dev: 0.03773307199556142\n",
      "---------------------------------------------------------------------------\n",
      "Model:LogisticRegression,Mean: 0.7604166666666667,Std Dev: 0.040192678299522284\n",
      "---------------------------------------------------------------------------\n",
      "Model:BaggingClassifier,Mean: 0.73875,Std Dev: 0.04568346710426723\n",
      "---------------------------------------------------------------------------\n",
      "Model:LGBMClassifier,Mean: 0.7604166666666667,Std Dev: 0.044145041875868936\n",
      "---------------------------------------------------------------------------\n",
      "Model:SGDClassifier,Mean: 0.7091666666666667,Std Dev: 0.038586123009300755\n",
      "---------------------------------------------------------------------------\n",
      "Model:SVC,Mean: 0.7654166666666667,Std Dev: 0.03855236338050136\n",
      "---------------------------------------------------------------------------\n"
     ]
    }
   ],
   "source": [
    "model(X_train,y_train)"
   ]
  },
  {
   "cell_type": "code",
   "execution_count": 8,
   "metadata": {},
   "outputs": [
    {
     "data": {
      "text/plain": [
       "Counter({1: 562, 0: 575})"
      ]
     },
     "execution_count": 8,
     "metadata": {},
     "output_type": "execute_result"
    }
   ],
   "source": [
    "ada = ADASYN(sampling_strategy='minority',random_state=42,n_neighbors=7)\n",
    "X_res,y_res = ada.fit_resample(X_train,y_train)\n",
    "Counter(y_res)"
   ]
  },
  {
   "cell_type": "code",
   "execution_count": 9,
   "metadata": {},
   "outputs": [
    {
     "name": "stdout",
     "output_type": "stream",
     "text": [
      "Model:GradientBoostingClassifier,Mean: 0.8238213527920095,Std Dev: 0.03443809259041476\n",
      "---------------------------------------------------------------------------\n",
      "Model:XGBClassifier,Mean: 0.8311494074419085,Std Dev: 0.031994446383129\n",
      "---------------------------------------------------------------------------\n",
      "Model:DecisionTreeClassifier,Mean: 0.7639910986906796,Std Dev: 0.03712163712236569\n",
      "---------------------------------------------------------------------------\n",
      "Model:RandomForestClassifier,Mean: 0.8446436888681881,Std Dev: 0.031539578166877254\n",
      "---------------------------------------------------------------------------\n",
      "Model:AdaBoostClassifier,Mean: 0.7938984629715883,Std Dev: 0.03896871758233318\n",
      "---------------------------------------------------------------------------\n",
      "Model:LogisticRegression,Mean: 0.7183020234953165,Std Dev: 0.0314257596972927\n",
      "---------------------------------------------------------------------------\n",
      "Model:BaggingClassifier,Mean: 0.8044739429695184,Std Dev: 0.03491312455709689\n",
      "---------------------------------------------------------------------------\n",
      "Model:LGBMClassifier,Mean: 0.8405138953578637,Std Dev: 0.032133164721007655\n",
      "---------------------------------------------------------------------------\n",
      "Model:SGDClassifier,Mean: 0.6643662992288982,Std Dev: 0.04754878441401122\n",
      "---------------------------------------------------------------------------\n",
      "Model:SVC,Mean: 0.7951223930031569,Std Dev: 0.034574599647036984\n",
      "---------------------------------------------------------------------------\n"
     ]
    }
   ],
   "source": [
    "model(X_res,y_res)"
   ]
  },
  {
   "cell_type": "code",
   "execution_count": 10,
   "metadata": {},
   "outputs": [
    {
     "data": {
      "text/plain": [
       "RandomizedSearchCV(cv=5, estimator=RandomForestClassifier(),\n",
       "                   param_distributions={'max_depth': <scipy.stats._distn_infrastructure.rv_frozen object at 0x000001A5EC049BB0>,\n",
       "                                        'max_features': <scipy.stats._distn_infrastructure.rv_frozen object at 0x000001A5EC30E5B0>,\n",
       "                                        'n_estimators': <scipy.stats._distn_infrastructure.rv_frozen object at 0x000001A5EC2E9AF0>},\n",
       "                   random_state=42, scoring='accuracy')"
      ]
     },
     "execution_count": 10,
     "metadata": {},
     "output_type": "execute_result"
    }
   ],
   "source": [
    "param_distribs = {'n_estimators': randint(low=1, high=500),\n",
    "                  'max_depth': randint(low=1, high=10),\n",
    "                  'max_features':randint(low=1,high=10),\n",
    "                 }\n",
    "\n",
    "rnd_RF = RandomizedSearchCV(RandomForestClassifier(),param_distributions=param_distribs,n_iter=10,cv=5,scoring='accuracy', \n",
    "                            random_state=42)\n",
    "\n",
    "rnd_RF.fit(X_res,y_res)"
   ]
  },
  {
   "cell_type": "code",
   "execution_count": 11,
   "metadata": {},
   "outputs": [
    {
     "data": {
      "text/plain": [
       "{'max_depth': 8, 'max_features': 6, 'n_estimators': 386}"
      ]
     },
     "execution_count": 11,
     "metadata": {},
     "output_type": "execute_result"
    }
   ],
   "source": [
    "rnd_RF.best_params_"
   ]
  },
  {
   "cell_type": "code",
   "execution_count": 12,
   "metadata": {},
   "outputs": [
    {
     "data": {
      "text/plain": [
       "RandomForestClassifier(max_depth=8, max_features=5, n_estimators=103,\n",
       "                       random_state=42)"
      ]
     },
     "execution_count": 12,
     "metadata": {},
     "output_type": "execute_result"
    }
   ],
   "source": [
    "RFClassifier = RandomForestClassifier(max_depth=8, max_features=5, n_estimators=103, random_state=42)\n",
    "RFClassifier.fit(X_res,y_res)"
   ]
  },
  {
   "cell_type": "code",
   "execution_count": 13,
   "metadata": {},
   "outputs": [
    {
     "data": {
      "text/plain": [
       "GridSearchCV(cv=5,\n",
       "             estimator=XGBClassifier(base_score=None, booster=None,\n",
       "                                     colsample_bylevel=None,\n",
       "                                     colsample_bynode=None,\n",
       "                                     colsample_bytree=None,\n",
       "                                     eval_metric='mlogloss', gamma=None,\n",
       "                                     gpu_id=None, importance_type='gain',\n",
       "                                     interaction_constraints=None,\n",
       "                                     learning_rate=None, max_delta_step=None,\n",
       "                                     max_depth=None, min_child_weight=None,\n",
       "                                     missing=nan, monotone_constraints=None,\n",
       "                                     n_estimators=100, n_jobs=None,\n",
       "                                     num_parallel_tree=None, random_state=None,\n",
       "                                     reg_alpha=None, reg_lambda=None,\n",
       "                                     scale_pos_weight=None, subsample=None,\n",
       "                                     tree_method=None, validate_parameters=None,\n",
       "                                     verbosity=None),\n",
       "             param_grid=[{'booster': ['gbtree', 'dart'],\n",
       "                          'learning_rate': [0.3, 0.5, 0.01, 0.1],\n",
       "                          'max_depth': [2, 4, 6, 8],\n",
       "                          'n_estimators': [3, 10, 30]}],\n",
       "             return_train_score=True, scoring='accuracy')"
      ]
     },
     "execution_count": 13,
     "metadata": {},
     "output_type": "execute_result"
    }
   ],
   "source": [
    "param_grid = [{'n_estimators': [3, 10, 30], 'max_depth': [2, 4, 6, 8],'booster': ['gbtree','dart'],\n",
    "              'learning_rate':[0.3,0.5,0.01,0.1]}]\n",
    "\n",
    "grid_xgb = GridSearchCV(XGBClassifier(eval_metric='mlogloss'), param_grid=param_grid, cv=5, scoring='accuracy', \n",
    "                        return_train_score=True)\n",
    "\n",
    "grid_xgb.fit(X_res,y_res)"
   ]
  },
  {
   "cell_type": "code",
   "execution_count": 14,
   "metadata": {},
   "outputs": [
    {
     "data": {
      "text/plain": [
       "{'booster': 'gbtree', 'learning_rate': 0.5, 'max_depth': 8, 'n_estimators': 30}"
      ]
     },
     "execution_count": 14,
     "metadata": {},
     "output_type": "execute_result"
    }
   ],
   "source": [
    "grid_xgb.best_params_"
   ]
  },
  {
   "cell_type": "code",
   "execution_count": 15,
   "metadata": {},
   "outputs": [
    {
     "data": {
      "text/plain": [
       "XGBClassifier(base_score=0.5, booster='gbtree', colsample_bylevel=1,\n",
       "              colsample_bynode=1, colsample_bytree=1, eval_metric='mlogloss',\n",
       "              gamma=0, gpu_id=-1, importance_type='gain',\n",
       "              interaction_constraints='', learning_rate=0.5, max_delta_step=0,\n",
       "              max_depth=8, min_child_weight=1, missing=nan,\n",
       "              monotone_constraints='()', n_estimators=30, n_jobs=8,\n",
       "              num_parallel_tree=1, random_state=0, reg_alpha=0, reg_lambda=1,\n",
       "              scale_pos_weight=1, subsample=1, tree_method='exact',\n",
       "              validate_parameters=1, verbosity=None)"
      ]
     },
     "execution_count": 15,
     "metadata": {},
     "output_type": "execute_result"
    }
   ],
   "source": [
    "XGClassifier=XGBClassifier(booster='gbtree', learning_rate=0.5, max_depth=8, n_estimators=30, eval_metric='mlogloss')\n",
    "XGClassifier.fit(X_res,y_res)"
   ]
  },
  {
   "cell_type": "code",
   "execution_count": 16,
   "metadata": {},
   "outputs": [
    {
     "data": {
      "text/plain": [
       "BaggingClassifier(base_estimator=XGBClassifier(base_score=None, booster=None,\n",
       "                                               colsample_bylevel=None,\n",
       "                                               colsample_bynode=None,\n",
       "                                               colsample_bytree=None,\n",
       "                                               eval_metric='mlogloss',\n",
       "                                               gamma=None, gpu_id=None,\n",
       "                                               importance_type='gain',\n",
       "                                               interaction_constraints=None,\n",
       "                                               learning_rate=None,\n",
       "                                               max_delta_step=None,\n",
       "                                               max_depth=None,\n",
       "                                               min_child_weight=None,\n",
       "                                               missing=nan,\n",
       "                                               monotone_constraints=None,\n",
       "                                               n_estimators=100, n_jobs=None,\n",
       "                                               num_parallel_tree=None,\n",
       "                                               random_state=None,\n",
       "                                               reg_alpha=None, reg_lambda=None,\n",
       "                                               scale_pos_weight=None,\n",
       "                                               subsample=None, tree_method=None,\n",
       "                                               validate_parameters=None,\n",
       "                                               verbosity=None),\n",
       "                  random_state=42)"
      ]
     },
     "execution_count": 16,
     "metadata": {},
     "output_type": "execute_result"
    }
   ],
   "source": [
    "BClassifier = BaggingClassifier(base_estimator=XGBClassifier(eval_metric='mlogloss'),random_state=42)\n",
    "BClassifier.fit(X_res,y_res)"
   ]
  },
  {
   "cell_type": "code",
   "execution_count": 17,
   "metadata": {},
   "outputs": [
    {
     "data": {
      "text/plain": [
       "LGBMClassifier(random_state=42)"
      ]
     },
     "execution_count": 17,
     "metadata": {},
     "output_type": "execute_result"
    }
   ],
   "source": [
    "LGBClassifier=LGBMClassifier(random_state=42)\n",
    "LGBClassifier.fit(X_res,y_res)"
   ]
  },
  {
   "cell_type": "code",
   "execution_count": 18,
   "metadata": {},
   "outputs": [
    {
     "data": {
      "text/plain": [
       "GradientBoostingClassifier(random_state=42)"
      ]
     },
     "execution_count": 18,
     "metadata": {},
     "output_type": "execute_result"
    }
   ],
   "source": [
    "GBClassifier=GradientBoostingClassifier(random_state=42)\n",
    "GBClassifier.fit(X_res,y_res)"
   ]
  },
  {
   "cell_type": "code",
   "execution_count": 19,
   "metadata": {},
   "outputs": [],
   "source": [
    "prediction_RF = RFClassifier.predict(X_test)"
   ]
  },
  {
   "cell_type": "code",
   "execution_count": 20,
   "metadata": {},
   "outputs": [],
   "source": [
    "prediction_XGB = XGClassifier.predict(X_test)"
   ]
  },
  {
   "cell_type": "code",
   "execution_count": 21,
   "metadata": {},
   "outputs": [],
   "source": [
    "prediction_Bagg = BClassifier.predict(X_test)"
   ]
  },
  {
   "cell_type": "code",
   "execution_count": 22,
   "metadata": {},
   "outputs": [],
   "source": [
    "prediction_LGBM = LGBClassifier.predict(X_test)"
   ]
  },
  {
   "cell_type": "code",
   "execution_count": 23,
   "metadata": {},
   "outputs": [],
   "source": [
    "prediction_GB = GBClassifier.predict(X_test)"
   ]
  },
  {
   "cell_type": "code",
   "execution_count": 24,
   "metadata": {},
   "outputs": [
    {
     "name": "stdout",
     "output_type": "stream",
     "text": [
      "Accuracy RForest...0.76\n",
      "---------------------------------------------------------------------------\n",
      "Accuracy XGBoost...0.75\n",
      "---------------------------------------------------------------------------\n",
      "Accuracy Bagging...0.745\n",
      "---------------------------------------------------------------------------\n",
      "Accuracy LightGBM...0.745\n",
      "---------------------------------------------------------------------------\n",
      "Accuracy Gradient...0.755\n",
      "---------------------------------------------------------------------------\n"
     ]
    }
   ],
   "source": [
    "print('Accuracy RForest...{}'.format(accuracy_score(y_test,prediction_RF)))\n",
    "print('---'*25)\n",
    "print('Accuracy XGBoost...{}'.format(accuracy_score(y_test,prediction_XGB)))\n",
    "print('---'*25)\n",
    "print('Accuracy Bagging...{}'.format(accuracy_score(y_test,prediction_Bagg)))\n",
    "print('---'*25)\n",
    "print('Accuracy LightGBM...{}'.format(accuracy_score(y_test,prediction_LGBM)))\n",
    "print('---'*25)\n",
    "print('Accuracy Gradient...{}'.format(accuracy_score(y_test,prediction_GB)))\n",
    "print('---'*25)"
   ]
  },
  {
   "cell_type": "code",
   "execution_count": 25,
   "metadata": {},
   "outputs": [
    {
     "name": "stdout",
     "output_type": "stream",
     "text": [
      "Precision RForest...0.835820895522388\n",
      "---------------------------------------------------------------------------\n",
      "Precision XGBoost...0.8188405797101449\n",
      "---------------------------------------------------------------------------\n",
      "Precision Bagging...0.8041958041958042\n",
      "---------------------------------------------------------------------------\n",
      "Precision LightGBM...0.8\n",
      "---------------------------------------------------------------------------\n",
      "Precision Gradient...0.8201438848920863\n",
      "---------------------------------------------------------------------------\n"
     ]
    }
   ],
   "source": [
    "print('Precision RForest...{}'.format(precision_score(y_test,prediction_RF)))\n",
    "print('---'*25)\n",
    "print('Precision XGBoost...{}'.format(precision_score(y_test,prediction_XGB)))\n",
    "print('---'*25)\n",
    "print('Precision Bagging...{}'.format(precision_score(y_test,prediction_Bagg)))\n",
    "print('---'*25)\n",
    "print('Precision LightGBM...{}'.format(precision_score(y_test,prediction_LGBM)))\n",
    "print('---'*25)\n",
    "print('Precision Gradient...{}'.format(precision_score(y_test,prediction_GB)))\n",
    "print('---'*25)"
   ]
  },
  {
   "cell_type": "code",
   "execution_count": 26,
   "metadata": {},
   "outputs": [
    {
     "name": "stdout",
     "output_type": "stream",
     "text": [
      "Recall RForest...0.8115942028985508\n",
      "---------------------------------------------------------------------------\n",
      "Recall XGBoost...0.8188405797101449\n",
      "---------------------------------------------------------------------------\n",
      "Recall Bagging...0.8333333333333334\n",
      "---------------------------------------------------------------------------\n",
      "Recall LightGBM...0.8405797101449275\n",
      "---------------------------------------------------------------------------\n",
      "Recall Gradient...0.8260869565217391\n",
      "---------------------------------------------------------------------------\n"
     ]
    }
   ],
   "source": [
    "print('Recall RForest...{}'.format(recall_score(y_test,prediction_RF)))\n",
    "print('---'*25)\n",
    "print('Recall XGBoost...{}'.format(recall_score(y_test,prediction_XGB)))\n",
    "print('---'*25)\n",
    "print('Recall Bagging...{}'.format(recall_score(y_test,prediction_Bagg)))\n",
    "print('---'*25)\n",
    "print('Recall LightGBM...{}'.format(recall_score(y_test,prediction_LGBM)))\n",
    "print('---'*25)\n",
    "print('Recall Gradient...{}'.format(recall_score(y_test,prediction_GB)))\n",
    "print('---'*25)"
   ]
  },
  {
   "cell_type": "code",
   "execution_count": 27,
   "metadata": {},
   "outputs": [
    {
     "name": "stdout",
     "output_type": "stream",
     "text": [
      "Confusion Matrix RForest... \n",
      " [[ 40  22]\n",
      " [ 26 112]]\n",
      "---------------------------------------------------------------------------\n",
      "Confusion Matrix XGBoost... \n",
      " [[ 37  25]\n",
      " [ 25 113]]\n",
      "---------------------------------------------------------------------------\n",
      "Confusion Matrix Bagging... \n",
      " [[ 34  28]\n",
      " [ 23 115]]\n",
      "---------------------------------------------------------------------------\n",
      "Confusion Matrix LightGBM... \n",
      " [[ 33  29]\n",
      " [ 22 116]]\n",
      "---------------------------------------------------------------------------\n",
      "Confusion Matrix Gradient... \n",
      " [[ 37  25]\n",
      " [ 24 114]]\n",
      "---------------------------------------------------------------------------\n"
     ]
    }
   ],
   "source": [
    "print('Confusion Matrix RForest... \\n {}'.format(confusion_matrix(y_test,prediction_RF)))\n",
    "print('---'*25)\n",
    "print('Confusion Matrix XGBoost... \\n {}'.format(confusion_matrix(y_test,prediction_XGB)))\n",
    "print('---'*25)\n",
    "print('Confusion Matrix Bagging... \\n {}'.format(confusion_matrix(y_test,prediction_Bagg)))\n",
    "print('---'*25)\n",
    "print('Confusion Matrix LightGBM... \\n {}'.format(confusion_matrix(y_test,prediction_LGBM)))\n",
    "print('---'*25)\n",
    "print('Confusion Matrix Gradient... \\n {}'.format(confusion_matrix(y_test,prediction_GB)))\n",
    "print('---'*25)"
   ]
  },
  {
   "cell_type": "code",
   "execution_count": 28,
   "metadata": {},
   "outputs": [],
   "source": [
    "import pickle\n",
    "file = 'Credit_Data_RF.pkl'\n",
    "\n",
    "pickle.dump(RFClassifier,open(file,'wb'))"
   ]
  },
  {
   "cell_type": "code",
   "execution_count": null,
   "metadata": {},
   "outputs": [],
   "source": []
  }
 ],
 "metadata": {
  "kernelspec": {
   "display_name": "Python 3",
   "language": "python",
   "name": "python3"
  },
  "language_info": {
   "codemirror_mode": {
    "name": "ipython",
    "version": 3
   },
   "file_extension": ".py",
   "mimetype": "text/x-python",
   "name": "python",
   "nbconvert_exporter": "python",
   "pygments_lexer": "ipython3",
   "version": "3.8.5"
  }
 },
 "nbformat": 4,
 "nbformat_minor": 4
}
